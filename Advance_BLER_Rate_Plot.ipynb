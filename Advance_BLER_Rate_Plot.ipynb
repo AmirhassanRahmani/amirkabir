{
  "cells": [
    {
      "cell_type": "markdown",
      "metadata": {
        "id": "view-in-github",
        "colab_type": "text"
      },
      "source": [
        "<a href=\"https://colab.research.google.com/github/AmirhassanRahmani/amirkabir/blob/main/Advance_BLER_Rate_Plot.ipynb\" target=\"_parent\"><img src=\"https://colab.research.google.com/assets/colab-badge.svg\" alt=\"Open In Colab\"/></a>"
      ]
    },
    {
      "cell_type": "markdown",
      "metadata": {
        "id": "TluzghrKGS7Q"
      },
      "source": [
        "# NN_Polar_Decoder"
      ]
    },
    {
      "cell_type": "code",
      "execution_count": 1,
      "metadata": {
        "colab": {
          "base_uri": "https://localhost:8080/"
        },
        "id": "ad9vhLqqCrLp",
        "outputId": "ef2ca257-0a4f-4eb2-996d-68efd644105b"
      },
      "outputs": [
        {
          "output_type": "execute_result",
          "data": {
            "text/plain": [
              "88"
            ]
          },
          "metadata": {},
          "execution_count": 1
        }
      ],
      "source": [
        "import numpy as np\n",
        "import matplotlib.pyplot as plt\n",
        "import os\n",
        "os.environ[\"KMP_DUPLICATE_LIB_OK\"]=\"TRUE\"\n",
        "%matplotlib inline\n",
        "import gc\n",
        "gc.collect(generation=2)"
      ]
    },
    {
      "cell_type": "markdown",
      "metadata": {
        "id": "9UAOyf71GXUX"
      },
      "source": [
        "**Parameters**"
      ]
    },
    {
      "cell_type": "code",
      "execution_count": 2,
      "metadata": {
        "id": "9A5z0Jb8DGF0"
      },
      "outputs": [],
      "source": [
        "N = 64\n",
        "flip_prob = 0.3  # BSC flip probability"
      ]
    },
    {
      "cell_type": "markdown",
      "metadata": {
        "id": "p3DuwqXKSaBu"
      },
      "source": [
        "**shannon capacity**"
      ]
    },
    {
      "cell_type": "code",
      "execution_count": 3,
      "metadata": {
        "colab": {
          "base_uri": "https://localhost:8080/"
        },
        "id": "Q403UZyJSZxI",
        "outputId": "8a2b6b7a-67db-486b-ad33-0768b556b7f2"
      },
      "outputs": [
        {
          "output_type": "stream",
          "name": "stdout",
          "text": [
            "C: 0.1187091007693073\n"
          ]
        }
      ],
      "source": [
        "p = flip_prob\n",
        "# Binary entropy function\n",
        "def binary_entropy(p):\n",
        "    if p == 0 or p == 1:\n",
        "        return 0.0\n",
        "    return -p * np.log2(p) - (1 - p) * np.log2(1 - p)\n",
        "\n",
        "# Channel capacity for BSC\n",
        "C = 1 - binary_entropy(p)\n",
        "print(f'C: {C}')"
      ]
    },
    {
      "cell_type": "markdown",
      "metadata": {
        "id": "kEsAfaSgTxFY"
      },
      "source": [
        "**Polyanskiy, Poor, Verdu´**"
      ]
    },
    {
      "cell_type": "code",
      "execution_count": 4,
      "metadata": {
        "colab": {
          "base_uri": "https://localhost:8080/"
        },
        "id": "ia9LgbyeTUpw",
        "outputId": "9fc8c3de-f5a4-4689-b1e4-9e3540a0e0c0"
      },
      "outputs": [
        {
          "output_type": "stream",
          "name": "stdout",
          "text": [
            "R_star: 0.07584816530250046\n",
            "K_star: 4.85428257936003\n"
          ]
        }
      ],
      "source": [
        "from scipy.stats import norm\n",
        "epsilon = 0.1\n",
        "\n",
        "# Channel dispersion for BSC\n",
        "V = p * (1 - p) * (np.log2((1 - p) / p))**2\n",
        "\n",
        "# Q inverse (using normal inverse CDF)\n",
        "Qinv = norm.ppf\n",
        "\n",
        "# Normal approximation for finite blocklength capacity\n",
        "R_star = C - np.sqrt(V / N) * Qinv(1 - epsilon) + np.log2(N) / (2 * N)\n",
        "R_star = R_star.item()\n",
        "K_star = R_star * N\n",
        "Round_K_star = round(K_star)\n",
        "\n",
        "print(f'R_star: {R_star}')\n",
        "print(f'K_star: {K_star}')"
      ]
    },
    {
      "cell_type": "markdown",
      "metadata": {
        "id": "nArbTnWdGoPP"
      },
      "source": [
        "**Polar Encoder (Bhattacharyya)**"
      ]
    },
    {
      "cell_type": "code",
      "execution_count": 5,
      "metadata": {
        "id": "6852gXpRDTEN"
      },
      "outputs": [],
      "source": [
        "# Define Polar Encoder (Bhattacharyya approximation for BSC)\n",
        "def polarization_channel_bsc(N, k, flip_prob):\n",
        "    z0 = np.zeros(N)\n",
        "    z0[0] = 2 * np.sqrt(flip_prob * (1 - flip_prob))\n",
        "    n = int(np.log2(N))\n",
        "    for j in range(1, n + 1):\n",
        "        u = 2 ** j\n",
        "        for t in range(0, u // 2):\n",
        "            T = z0[t]\n",
        "            z0[t] = 2 * T - T**2\n",
        "            z0[u // 2 + t] = T**2\n",
        "    idx = np.argsort(z0)\n",
        "    A = np.zeros(N, dtype=bool)\n",
        "    A[idx[0:k]] = True\n",
        "    return A\n"
      ]
    },
    {
      "cell_type": "code",
      "execution_count": 6,
      "metadata": {
        "id": "qDeFnYYnDVe1"
      },
      "outputs": [],
      "source": [
        "def polar_xor_encoding(u):\n",
        "    x = np.copy(u)\n",
        "    stages = int(np.log2(len(u)))\n",
        "    for s in range(stages):\n",
        "        n = 2 ** s\n",
        "        for i in range(0, len(u), 2 * n):\n",
        "            for j in range(n):\n",
        "                x[i + j] ^= x[i + j + n]\n",
        "    return x"
      ]
    },
    {
      "cell_type": "code",
      "execution_count": 7,
      "metadata": {
        "colab": {
          "base_uri": "https://localhost:8080/"
        },
        "id": "nl9RhCONQ_zd",
        "outputId": "a02d0f33-6823-4def-82f5-ff99e5c400ae"
      },
      "outputs": [
        {
          "output_type": "execute_result",
          "data": {
            "text/plain": [
              "array([0, 0, 0, 1])"
            ]
          },
          "metadata": {},
          "execution_count": 7
        }
      ],
      "source": [
        "u = np.array([1,1,1,1])\n",
        "result = polar_xor_encoding(u)\n",
        "result"
      ]
    },
    {
      "cell_type": "markdown",
      "metadata": {
        "id": "iS-cq7mfDhIU"
      },
      "source": [
        "## Build Torch NN Training Model"
      ]
    },
    {
      "cell_type": "code",
      "execution_count": 8,
      "metadata": {
        "id": "0MYz84FMDd9F"
      },
      "outputs": [],
      "source": [
        "import torch\n",
        "import torch.nn as nn\n",
        "import torch.nn.functional as F"
      ]
    },
    {
      "cell_type": "code",
      "execution_count": 9,
      "metadata": {
        "id": "YZriPD20Dj19"
      },
      "outputs": [],
      "source": [
        "class DNN_Model(nn.Module):\n",
        "    def __init__(self, k):\n",
        "        super(DNN_Model, self).__init__()\n",
        "        self.k = k\n",
        "        self.fcnn1 = nn.Linear(N, 1500)                  # 第1層 Linear NN\n",
        "        self.fcnn2 = nn.Linear(1500, 1500)                # 第2層 Linear NN\n",
        "        self.fcnn3 = nn.Linear(1500, 1200)                 # 第3層 Linear NN\n",
        "        self.fcnn4 = nn.Linear(1200, 1000)                 # 第3層 Linear NN\n",
        "        self.output = nn.Linear(1000, k)                  # 第4層 Linear NN\n",
        "        # nn.init.kaiming_normal_(self.fcnn2.weight, mode='fan_in')\n",
        "        # nn.init.normal_(self.fcnn4.bias, mean=0.0, std=0.1)\n",
        "\n",
        "    def forward(self, input_layer):\n",
        "        x = F.relu(self.fcnn1(input_layer))\n",
        "        x = F.relu(self.fcnn2(x))\n",
        "        x = F.relu(self.fcnn3(x))\n",
        "        x = F.relu(self.fcnn4(x))\n",
        "        predi_output = torch.sigmoid(self.output(x))\n",
        "        return predi_output\n",
        "\n"
      ]
    },
    {
      "cell_type": "markdown",
      "metadata": {
        "id": "tCwc5u1YG_F_"
      },
      "source": [
        "**Training Model**"
      ]
    },
    {
      "cell_type": "code",
      "execution_count": 10,
      "metadata": {
        "id": "YKEKsNixDmRN"
      },
      "outputs": [],
      "source": [
        "# create your optimizer\n",
        "loss_function = nn.MSELoss()\n",
        "\n",
        "def mini_batch_loss(model, optimizer, x, target):\n",
        "    model.train()\n",
        "    optimizer.zero_grad()\n",
        "    x_tensor = torch.tensor(x, dtype=torch.float32)\n",
        "    y_tensor = torch.tensor(target, dtype=torch.float32)\n",
        "    output = model(x_tensor)\n",
        "    loss = loss_function(output, y_tensor)\n",
        "    loss.backward()\n",
        "    optimizer.step()\n",
        "    return loss.item()\n",
        "\n"
      ]
    },
    {
      "cell_type": "code",
      "execution_count": 11,
      "metadata": {
        "id": "QEcQDJ8Lwbf9"
      },
      "outputs": [],
      "source": [
        "def build_data(k):\n",
        "    np.random.seed(4267)\n",
        "    info_codewords = np.random.randint(0, 2, size=(samples_size, k))\n",
        "    A = polarization_channel_bsc(N, k, flip_prob)\n",
        "    polar_codewords = np.zeros((samples_size, N), dtype=int)\n",
        "    u = np.zeros((samples_size, N), dtype=int)\n",
        "    u[:, A] = info_codewords\n",
        "    for i in range(samples_size):\n",
        "        polar_codewords[i] = polar_xor_encoding(u[i])\n",
        "    return polar_codewords, info_codewords\n",
        "\n",
        "def simulate_bsc_noise(x, flip_prob):\n",
        "    flips = np.random.binomial(1, flip_prob, size=x.shape)\n",
        "    return x ^ flips"
      ]
    },
    {
      "cell_type": "code",
      "source": [
        "from datetime import datetime\n",
        "\n",
        "# Improved Checkpoint Manager\n",
        "class CheckpointManager:\n",
        "    def __init__(self, base_dir=\"polar_decoder_checkpoints\"):\n",
        "        self.base_dir = base_dir\n",
        "        os.makedirs(base_dir, exist_ok=True)\n",
        "\n",
        "    def get_best_checkpoint_path(self, k):\n",
        "        \"\"\"Returns path to the best checkpoint for given k\"\"\"\n",
        "        pattern = f\"polar_decoder_k{k}_e*.pt\"\n",
        "        checkpoints = [f for f in os.listdir(self.base_dir) if f.startswith(f\"polar_decoder_k{k}_\")]\n",
        "\n",
        "        if not checkpoints:\n",
        "            return None\n",
        "\n",
        "        # Find checkpoint with lowest BLER\n",
        "        best_checkpoint = None\n",
        "        best_bler = float('inf')\n",
        "\n",
        "        for cp in checkpoints:\n",
        "            try:\n",
        "                bler = float(cp.split('_bler')[1].split('.pt')[0])\n",
        "                if bler < best_bler:\n",
        "                    best_bler = bler\n",
        "                    best_checkpoint = cp\n",
        "            except:\n",
        "                continue\n",
        "\n",
        "        return os.path.join(self.base_dir, best_checkpoint) if best_checkpoint else None\n",
        "\n",
        "    def save_checkpoint(self, model, optimizer, k, epoch, loss, bler):\n",
        "        \"\"\"Saves checkpoint with BLER in filename\"\"\"\n",
        "        timestamp = datetime.now().strftime(\"%Y%m%d_%H%M%S\")\n",
        "        checkpoint_path = os.path.join(\n",
        "            self.base_dir,\n",
        "            f\"polar_decoder_k{k}_e{epoch}_bler{bler:.5f}_{timestamp}.pt\"\n",
        "        )\n",
        "\n",
        "        torch.save({\n",
        "            'epoch': epoch,\n",
        "            'model_state_dict': model.state_dict(),\n",
        "            'optimizer_state_dict': optimizer.state_dict(),\n",
        "            'loss': loss,\n",
        "            'bler': bler,\n",
        "            'k': k\n",
        "        }, checkpoint_path)\n",
        "\n",
        "        print(f\"Saved checkpoint: BLER={bler:.5f} at {checkpoint_path}\")\n",
        "        return checkpoint_path\n",
        "\n",
        "# Modified Training Loop\n",
        "checkpoint_mgr = CheckpointManager()"
      ],
      "metadata": {
        "id": "TIKSX_vDSwY-"
      },
      "execution_count": 12,
      "outputs": []
    },
    {
      "cell_type": "code",
      "execution_count": 13,
      "metadata": {
        "colab": {
          "base_uri": "https://localhost:8080/"
        },
        "id": "Dceua0Nrwfld",
        "outputId": "9437eccc-e59b-4c9f-ec56-4d99d6c04391"
      },
      "outputs": [
        {
          "output_type": "stream",
          "name": "stdout",
          "text": [
            "\n",
            "========================================\n",
            "Training for k = 1\n",
            "========================================\n",
            "Saved checkpoint: BLER=0.00100 at polar_decoder_checkpoints/polar_decoder_k1_e1_bler0.00100_20250513_074101.pt\n",
            "Epoch 1/5: Loss=0.0162, BLER=0.00100 (Best=0.00100)\n",
            "Saved checkpoint: BLER=0.00088 at polar_decoder_checkpoints/polar_decoder_k1_e2_bler0.00088_20250513_074233.pt\n",
            "Epoch 2/5: Loss=0.0007, BLER=0.00088 (Best=0.00088)\n",
            "Saved checkpoint: BLER=0.00066 at polar_decoder_checkpoints/polar_decoder_k1_e3_bler0.00066_20250513_074405.pt\n",
            "Epoch 3/5: Loss=0.0007, BLER=0.00066 (Best=0.00066)\n",
            "Epoch 4/5: Loss=0.0007, BLER=0.00091 (Best=0.00066)\n",
            "Epoch 5/5: Loss=0.0006, BLER=0.00083 (Best=0.00066)\n",
            "\n",
            "========================================\n",
            "Training for k = 2\n",
            "========================================\n",
            "Saved checkpoint: BLER=0.02113 at polar_decoder_checkpoints/polar_decoder_k2_e1_bler0.02113_20250513_074915.pt\n",
            "Epoch 1/5: Loss=0.0450, BLER=0.02113 (Best=0.02113)\n",
            "Epoch 2/5: Loss=0.0118, BLER=0.02145 (Best=0.02113)\n",
            "Epoch 3/5: Loss=0.0121, BLER=0.02255 (Best=0.02113)\n",
            "Saved checkpoint: BLER=0.01958 at polar_decoder_checkpoints/polar_decoder_k2_e4_bler0.01958_20250513_075356.pt\n",
            "Epoch 4/5: Loss=0.0118, BLER=0.01958 (Best=0.01958)\n",
            "Epoch 5/5: Loss=0.0119, BLER=0.02118 (Best=0.01958)\n",
            "\n",
            "========================================\n",
            "Training for k = 3\n",
            "========================================\n",
            "Saved checkpoint: BLER=0.07020 at polar_decoder_checkpoints/polar_decoder_k3_e1_bler0.07020_20250513_075719.pt\n",
            "Epoch 1/5: Loss=0.0771, BLER=0.07020 (Best=0.07020)\n",
            "Saved checkpoint: BLER=0.05359 at polar_decoder_checkpoints/polar_decoder_k3_e2_bler0.05359_20250513_075856.pt\n",
            "Epoch 2/5: Loss=0.0232, BLER=0.05359 (Best=0.05359)\n",
            "Saved checkpoint: BLER=0.05211 at polar_decoder_checkpoints/polar_decoder_k3_e3_bler0.05211_20250513_080028.pt\n",
            "Epoch 3/5: Loss=0.0222, BLER=0.05211 (Best=0.05211)\n",
            "Epoch 4/5: Loss=0.0215, BLER=0.05252 (Best=0.05211)\n",
            "Saved checkpoint: BLER=0.05181 at polar_decoder_checkpoints/polar_decoder_k3_e5_bler0.05181_20250513_080341.pt\n",
            "Epoch 5/5: Loss=0.0220, BLER=0.05181 (Best=0.05181)\n",
            "\n",
            "========================================\n",
            "Training for k = 4\n",
            "========================================\n",
            "Saved checkpoint: BLER=0.18004 at polar_decoder_checkpoints/polar_decoder_k4_e1_bler0.18004_20250513_080526.pt\n",
            "Epoch 1/15: Loss=0.1194, BLER=0.18004 (Best=0.18004)\n",
            "Saved checkpoint: BLER=0.12984 at polar_decoder_checkpoints/polar_decoder_k4_e2_bler0.12984_20250513_080658.pt\n",
            "Epoch 2/15: Loss=0.0441, BLER=0.12984 (Best=0.12984)\n",
            "Saved checkpoint: BLER=0.12927 at polar_decoder_checkpoints/polar_decoder_k4_e3_bler0.12927_20250513_080837.pt\n",
            "Epoch 3/15: Loss=0.0390, BLER=0.12927 (Best=0.12927)\n",
            "Saved checkpoint: BLER=0.11189 at polar_decoder_checkpoints/polar_decoder_k4_e4_bler0.11189_20250513_081011.pt\n",
            "Epoch 4/15: Loss=0.0370, BLER=0.11189 (Best=0.11189)\n",
            "Saved checkpoint: BLER=0.11111 at polar_decoder_checkpoints/polar_decoder_k4_e5_bler0.11111_20250513_081146.pt\n",
            "Epoch 5/15: Loss=0.0367, BLER=0.11111 (Best=0.11111)\n",
            "Saved checkpoint: BLER=0.10798 at polar_decoder_checkpoints/polar_decoder_k4_e6_bler0.10798_20250513_081319.pt\n",
            "Epoch 6/15: Loss=0.0355, BLER=0.10798 (Best=0.10798)\n",
            "Saved checkpoint: BLER=0.10277 at polar_decoder_checkpoints/polar_decoder_k4_e7_bler0.10277_20250513_081454.pt\n",
            "Epoch 7/15: Loss=0.0346, BLER=0.10277 (Best=0.10277)\n",
            "Saved checkpoint: BLER=0.10105 at polar_decoder_checkpoints/polar_decoder_k4_e8_bler0.10105_20250513_081628.pt\n",
            "Epoch 8/15: Loss=0.0351, BLER=0.10105 (Best=0.10105)\n",
            "Saved checkpoint: BLER=0.10076 at polar_decoder_checkpoints/polar_decoder_k4_e9_bler0.10076_20250513_081814.pt\n",
            "Epoch 9/15: Loss=0.0346, BLER=0.10076 (Best=0.10076)\n",
            "Saved checkpoint: BLER=0.09827 at polar_decoder_checkpoints/polar_decoder_k4_e10_bler0.09827_20250513_081950.pt\n",
            "Epoch 10/15: Loss=0.0339, BLER=0.09827 (Best=0.09827)\n",
            "Saved checkpoint: BLER=0.09587 at polar_decoder_checkpoints/polar_decoder_k4_e11_bler0.09587_20250513_082126.pt\n",
            "Epoch 11/15: Loss=0.0344, BLER=0.09587 (Best=0.09587)\n",
            "Saved checkpoint: BLER=0.09555 at polar_decoder_checkpoints/polar_decoder_k4_e12_bler0.09555_20250513_082301.pt\n",
            "Epoch 12/15: Loss=0.0338, BLER=0.09555 (Best=0.09555)\n",
            "Epoch 13/15: Loss=0.0338, BLER=0.09568 (Best=0.09555)\n",
            "Saved checkpoint: BLER=0.09326 at polar_decoder_checkpoints/polar_decoder_k4_e14_bler0.09326_20250513_082612.pt\n",
            "Epoch 14/15: Loss=0.0335, BLER=0.09326 (Best=0.09326)\n",
            "Epoch 15/15: Loss=0.0336, BLER=0.09789 (Best=0.09326)\n",
            "\n",
            "========================================\n",
            "Training for k = 5\n",
            "========================================\n",
            "Saved checkpoint: BLER=0.39361 at polar_decoder_checkpoints/polar_decoder_k5_e1_bler0.39361_20250513_082942.pt\n",
            "Epoch 1/15: Loss=0.1661, BLER=0.39361 (Best=0.39361)\n",
            "Saved checkpoint: BLER=0.31393 at polar_decoder_checkpoints/polar_decoder_k5_e2_bler0.31393_20250513_083113.pt\n",
            "Epoch 2/15: Loss=0.0827, BLER=0.31393 (Best=0.31393)\n",
            "Saved checkpoint: BLER=0.24772 at polar_decoder_checkpoints/polar_decoder_k5_e3_bler0.24772_20250513_083246.pt\n",
            "Epoch 3/15: Loss=0.0676, BLER=0.24772 (Best=0.24772)\n",
            "Saved checkpoint: BLER=0.22891 at polar_decoder_checkpoints/polar_decoder_k5_e4_bler0.22891_20250513_083421.pt\n",
            "Epoch 4/15: Loss=0.0615, BLER=0.22891 (Best=0.22891)\n",
            "Saved checkpoint: BLER=0.20528 at polar_decoder_checkpoints/polar_decoder_k5_e5_bler0.20528_20250513_083555.pt\n",
            "Epoch 5/15: Loss=0.0578, BLER=0.20528 (Best=0.20528)\n",
            "Saved checkpoint: BLER=0.19534 at polar_decoder_checkpoints/polar_decoder_k5_e6_bler0.19534_20250513_083731.pt\n",
            "Epoch 6/15: Loss=0.0553, BLER=0.19534 (Best=0.19534)\n",
            "Saved checkpoint: BLER=0.19012 at polar_decoder_checkpoints/polar_decoder_k5_e7_bler0.19012_20250513_083913.pt\n",
            "Epoch 7/15: Loss=0.0532, BLER=0.19012 (Best=0.19012)\n",
            "Saved checkpoint: BLER=0.17897 at polar_decoder_checkpoints/polar_decoder_k5_e8_bler0.17897_20250513_084047.pt\n",
            "Epoch 8/15: Loss=0.0532, BLER=0.17897 (Best=0.17897)\n",
            "Saved checkpoint: BLER=0.17423 at polar_decoder_checkpoints/polar_decoder_k5_e9_bler0.17423_20250513_084222.pt\n",
            "Epoch 9/15: Loss=0.0520, BLER=0.17423 (Best=0.17423)\n",
            "Saved checkpoint: BLER=0.16716 at polar_decoder_checkpoints/polar_decoder_k5_e10_bler0.16716_20250513_084357.pt\n",
            "Epoch 10/15: Loss=0.0516, BLER=0.16716 (Best=0.16716)\n",
            "Saved checkpoint: BLER=0.16365 at polar_decoder_checkpoints/polar_decoder_k5_e11_bler0.16365_20250513_084530.pt\n",
            "Epoch 11/15: Loss=0.0512, BLER=0.16365 (Best=0.16365)\n",
            "Saved checkpoint: BLER=0.16308 at polar_decoder_checkpoints/polar_decoder_k5_e12_bler0.16308_20250513_084707.pt\n",
            "Epoch 12/15: Loss=0.0505, BLER=0.16308 (Best=0.16308)\n",
            "Saved checkpoint: BLER=0.16001 at polar_decoder_checkpoints/polar_decoder_k5_e13_bler0.16001_20250513_084852.pt\n",
            "Epoch 13/15: Loss=0.0503, BLER=0.16001 (Best=0.16001)\n",
            "Epoch 14/15: Loss=0.0505, BLER=0.16124 (Best=0.16001)\n",
            "Saved checkpoint: BLER=0.15652 at polar_decoder_checkpoints/polar_decoder_k5_e15_bler0.15652_20250513_085203.pt\n",
            "Epoch 15/15: Loss=0.0500, BLER=0.15652 (Best=0.15652)\n",
            "\n",
            "========================================\n",
            "Training for k = 6\n",
            "========================================\n",
            "Saved checkpoint: BLER=0.63466 at polar_decoder_checkpoints/polar_decoder_k6_e1_bler0.63466_20250513_085348.pt\n",
            "Epoch 1/15: Loss=0.2067, BLER=0.63466 (Best=0.63466)\n",
            "Saved checkpoint: BLER=0.54937 at polar_decoder_checkpoints/polar_decoder_k6_e2_bler0.54937_20250513_085519.pt\n",
            "Epoch 2/15: Loss=0.1256, BLER=0.54937 (Best=0.54937)\n",
            "Saved checkpoint: BLER=0.48640 at polar_decoder_checkpoints/polar_decoder_k6_e3_bler0.48640_20250513_085652.pt\n",
            "Epoch 3/15: Loss=0.1147, BLER=0.48640 (Best=0.48640)\n",
            "Saved checkpoint: BLER=0.44135 at polar_decoder_checkpoints/polar_decoder_k6_e4_bler0.44135_20250513_085827.pt\n",
            "Epoch 4/15: Loss=0.1047, BLER=0.44135 (Best=0.44135)\n",
            "Saved checkpoint: BLER=0.39484 at polar_decoder_checkpoints/polar_decoder_k6_e5_bler0.39484_20250513_090011.pt\n",
            "Epoch 5/15: Loss=0.0954, BLER=0.39484 (Best=0.39484)\n",
            "Saved checkpoint: BLER=0.35259 at polar_decoder_checkpoints/polar_decoder_k6_e6_bler0.35259_20250513_090145.pt\n",
            "Epoch 6/15: Loss=0.0887, BLER=0.35259 (Best=0.35259)\n",
            "Saved checkpoint: BLER=0.31927 at polar_decoder_checkpoints/polar_decoder_k6_e7_bler0.31927_20250513_090319.pt\n",
            "Epoch 7/15: Loss=0.0821, BLER=0.31927 (Best=0.31927)\n",
            "Saved checkpoint: BLER=0.29242 at polar_decoder_checkpoints/polar_decoder_k6_e8_bler0.29242_20250513_090452.pt\n",
            "Epoch 8/15: Loss=0.0789, BLER=0.29242 (Best=0.29242)\n",
            "Saved checkpoint: BLER=0.27298 at polar_decoder_checkpoints/polar_decoder_k6_e9_bler0.27298_20250513_090627.pt\n",
            "Epoch 9/15: Loss=0.0751, BLER=0.27298 (Best=0.27298)\n",
            "Saved checkpoint: BLER=0.25660 at polar_decoder_checkpoints/polar_decoder_k6_e10_bler0.25660_20250513_090801.pt\n",
            "Epoch 10/15: Loss=0.0730, BLER=0.25660 (Best=0.25660)\n",
            "Saved checkpoint: BLER=0.24182 at polar_decoder_checkpoints/polar_decoder_k6_e11_bler0.24182_20250513_090942.pt\n",
            "Epoch 11/15: Loss=0.0720, BLER=0.24182 (Best=0.24182)\n",
            "Saved checkpoint: BLER=0.23516 at polar_decoder_checkpoints/polar_decoder_k6_e12_bler0.23516_20250513_091115.pt\n",
            "Epoch 12/15: Loss=0.0702, BLER=0.23516 (Best=0.23516)\n",
            "Saved checkpoint: BLER=0.23245 at polar_decoder_checkpoints/polar_decoder_k6_e13_bler0.23245_20250513_091249.pt\n",
            "Epoch 13/15: Loss=0.0697, BLER=0.23245 (Best=0.23245)\n",
            "Saved checkpoint: BLER=0.22759 at polar_decoder_checkpoints/polar_decoder_k6_e14_bler0.22759_20250513_091421.pt\n",
            "Epoch 14/15: Loss=0.0696, BLER=0.22759 (Best=0.22759)\n",
            "Epoch 15/15: Loss=0.0691, BLER=0.22853 (Best=0.22759)\n",
            "\n",
            "========================================\n",
            "Training for k = 7\n",
            "========================================\n",
            "Saved checkpoint: BLER=0.86334 at polar_decoder_checkpoints/polar_decoder_k7_e1_bler0.86334_20250513_091740.pt\n",
            "Epoch 1/15: Loss=0.2217, BLER=0.86334 (Best=0.86334)\n",
            "Saved checkpoint: BLER=0.81200 at polar_decoder_checkpoints/polar_decoder_k7_e2_bler0.81200_20250513_091920.pt\n",
            "Epoch 2/15: Loss=0.1618, BLER=0.81200 (Best=0.81200)\n",
            "Saved checkpoint: BLER=0.78668 at polar_decoder_checkpoints/polar_decoder_k7_e3_bler0.78668_20250513_092052.pt\n",
            "Epoch 3/15: Loss=0.1491, BLER=0.78668 (Best=0.78668)\n",
            "Saved checkpoint: BLER=0.77195 at polar_decoder_checkpoints/polar_decoder_k7_e4_bler0.77195_20250513_092227.pt\n",
            "Epoch 4/15: Loss=0.1424, BLER=0.77195 (Best=0.77195)\n",
            "Saved checkpoint: BLER=0.75638 at polar_decoder_checkpoints/polar_decoder_k7_e5_bler0.75638_20250513_092403.pt\n",
            "Epoch 5/15: Loss=0.1366, BLER=0.75638 (Best=0.75638)\n",
            "Saved checkpoint: BLER=0.74852 at polar_decoder_checkpoints/polar_decoder_k7_e6_bler0.74852_20250513_092537.pt\n",
            "Epoch 6/15: Loss=0.1332, BLER=0.74852 (Best=0.74852)\n",
            "Saved checkpoint: BLER=0.73633 at polar_decoder_checkpoints/polar_decoder_k7_e7_bler0.73633_20250513_092711.pt\n",
            "Epoch 7/15: Loss=0.1293, BLER=0.73633 (Best=0.73633)\n",
            "Saved checkpoint: BLER=0.71799 at polar_decoder_checkpoints/polar_decoder_k7_e8_bler0.71799_20250513_092849.pt\n",
            "Epoch 8/15: Loss=0.1272, BLER=0.71799 (Best=0.71799)\n",
            "Saved checkpoint: BLER=0.68761 at polar_decoder_checkpoints/polar_decoder_k7_e9_bler0.68761_20250513_093034.pt\n",
            "Epoch 9/15: Loss=0.1243, BLER=0.68761 (Best=0.68761)\n",
            "Saved checkpoint: BLER=0.61438 at polar_decoder_checkpoints/polar_decoder_k7_e10_bler0.61438_20250513_093208.pt\n",
            "Epoch 10/15: Loss=0.1212, BLER=0.61438 (Best=0.61438)\n",
            "Saved checkpoint: BLER=0.49846 at polar_decoder_checkpoints/polar_decoder_k7_e11_bler0.49846_20250513_093345.pt\n",
            "Epoch 11/15: Loss=0.1171, BLER=0.49846 (Best=0.49846)\n",
            "Saved checkpoint: BLER=0.44299 at polar_decoder_checkpoints/polar_decoder_k7_e12_bler0.44299_20250513_093519.pt\n",
            "Epoch 12/15: Loss=0.1091, BLER=0.44299 (Best=0.44299)\n",
            "Saved checkpoint: BLER=0.43306 at polar_decoder_checkpoints/polar_decoder_k7_e13_bler0.43306_20250513_093655.pt\n",
            "Epoch 13/15: Loss=0.1043, BLER=0.43306 (Best=0.43306)\n",
            "Saved checkpoint: BLER=0.41605 at polar_decoder_checkpoints/polar_decoder_k7_e14_bler0.41605_20250513_093829.pt\n",
            "Epoch 14/15: Loss=0.1016, BLER=0.41605 (Best=0.41605)\n",
            "Saved checkpoint: BLER=0.40839 at polar_decoder_checkpoints/polar_decoder_k7_e15_bler0.40839_20250513_094015.pt\n",
            "Epoch 15/15: Loss=0.1003, BLER=0.40839 (Best=0.40839)\n",
            "\n",
            "========================================\n",
            "Training for k = 8\n",
            "========================================\n",
            "Saved checkpoint: BLER=0.95307 at polar_decoder_checkpoints/polar_decoder_k8_e1_bler0.95307_20250513_094200.pt\n",
            "Epoch 1/15: Loss=0.2401, BLER=0.95307 (Best=0.95307)\n",
            "Saved checkpoint: BLER=0.89714 at polar_decoder_checkpoints/polar_decoder_k8_e2_bler0.89714_20250513_094331.pt\n",
            "Epoch 2/15: Loss=0.1983, BLER=0.89714 (Best=0.89714)\n",
            "Saved checkpoint: BLER=0.88569 at polar_decoder_checkpoints/polar_decoder_k8_e3_bler0.88569_20250513_094504.pt\n",
            "Epoch 3/15: Loss=0.1806, BLER=0.88569 (Best=0.88569)\n",
            "Saved checkpoint: BLER=0.87878 at polar_decoder_checkpoints/polar_decoder_k8_e4_bler0.87878_20250513_094637.pt\n",
            "Epoch 4/15: Loss=0.1747, BLER=0.87878 (Best=0.87878)\n",
            "Epoch 5/15: Loss=0.1720, BLER=0.87996 (Best=0.87878)\n",
            "Saved checkpoint: BLER=0.87248 at polar_decoder_checkpoints/polar_decoder_k8_e6_bler0.87248_20250513_094951.pt\n",
            "Epoch 6/15: Loss=0.1702, BLER=0.87248 (Best=0.87248)\n",
            "Saved checkpoint: BLER=0.85732 at polar_decoder_checkpoints/polar_decoder_k8_e7_bler0.85732_20250513_095127.pt\n",
            "Epoch 7/15: Loss=0.1663, BLER=0.85732 (Best=0.85732)\n",
            "Saved checkpoint: BLER=0.84137 at polar_decoder_checkpoints/polar_decoder_k8_e8_bler0.84137_20250513_095301.pt\n",
            "Epoch 8/15: Loss=0.1634, BLER=0.84137 (Best=0.84137)\n",
            "Saved checkpoint: BLER=0.83270 at polar_decoder_checkpoints/polar_decoder_k8_e9_bler0.83270_20250513_095436.pt\n",
            "Epoch 9/15: Loss=0.1599, BLER=0.83270 (Best=0.83270)\n",
            "Saved checkpoint: BLER=0.82089 at polar_decoder_checkpoints/polar_decoder_k8_e10_bler0.82089_20250513_095612.pt\n",
            "Epoch 10/15: Loss=0.1570, BLER=0.82089 (Best=0.82089)\n",
            "Saved checkpoint: BLER=0.80563 at polar_decoder_checkpoints/polar_decoder_k8_e11_bler0.80563_20250513_095747.pt\n",
            "Epoch 11/15: Loss=0.1540, BLER=0.80563 (Best=0.80563)\n",
            "Saved checkpoint: BLER=0.78949 at polar_decoder_checkpoints/polar_decoder_k8_e12_bler0.78949_20250513_095922.pt\n",
            "Epoch 12/15: Loss=0.1500, BLER=0.78949 (Best=0.78949)\n",
            "Saved checkpoint: BLER=0.78125 at polar_decoder_checkpoints/polar_decoder_k8_e13_bler0.78125_20250513_100107.pt\n",
            "Epoch 13/15: Loss=0.1472, BLER=0.78125 (Best=0.78125)\n",
            "Saved checkpoint: BLER=0.76992 at polar_decoder_checkpoints/polar_decoder_k8_e14_bler0.76992_20250513_100242.pt\n",
            "Epoch 14/15: Loss=0.1435, BLER=0.76992 (Best=0.76992)\n",
            "Saved checkpoint: BLER=0.75314 at polar_decoder_checkpoints/polar_decoder_k8_e15_bler0.75314_20250513_100417.pt\n",
            "Epoch 15/15: Loss=0.1411, BLER=0.75314 (Best=0.75314)\n",
            "\n",
            "========================================\n",
            "Training for k = 9\n",
            "========================================\n",
            "Saved checkpoint: BLER=0.98259 at polar_decoder_checkpoints/polar_decoder_k9_e1_bler0.98259_20250513_100603.pt\n",
            "Epoch 1/15: Loss=0.2420, BLER=0.98259 (Best=0.98259)\n",
            "Saved checkpoint: BLER=0.95972 at polar_decoder_checkpoints/polar_decoder_k9_e2_bler0.95972_20250513_100735.pt\n",
            "Epoch 2/15: Loss=0.2117, BLER=0.95972 (Best=0.95972)\n",
            "Saved checkpoint: BLER=0.95269 at polar_decoder_checkpoints/polar_decoder_k9_e3_bler0.95269_20250513_100906.pt\n",
            "Epoch 3/15: Loss=0.1978, BLER=0.95269 (Best=0.95269)\n",
            "Saved checkpoint: BLER=0.94941 at polar_decoder_checkpoints/polar_decoder_k9_e4_bler0.94941_20250513_101051.pt\n",
            "Epoch 4/15: Loss=0.1920, BLER=0.94941 (Best=0.94941)\n",
            "Saved checkpoint: BLER=0.94802 at polar_decoder_checkpoints/polar_decoder_k9_e5_bler0.94802_20250513_101227.pt\n",
            "Epoch 5/15: Loss=0.1893, BLER=0.94802 (Best=0.94802)\n",
            "Saved checkpoint: BLER=0.94408 at polar_decoder_checkpoints/polar_decoder_k9_e6_bler0.94408_20250513_101401.pt\n",
            "Epoch 6/15: Loss=0.1872, BLER=0.94408 (Best=0.94408)\n",
            "Saved checkpoint: BLER=0.93763 at polar_decoder_checkpoints/polar_decoder_k9_e7_bler0.93763_20250513_101536.pt\n",
            "Epoch 7/15: Loss=0.1839, BLER=0.93763 (Best=0.93763)\n",
            "Saved checkpoint: BLER=0.93291 at polar_decoder_checkpoints/polar_decoder_k9_e8_bler0.93291_20250513_101711.pt\n",
            "Epoch 8/15: Loss=0.1817, BLER=0.93291 (Best=0.93291)\n",
            "Saved checkpoint: BLER=0.93118 at polar_decoder_checkpoints/polar_decoder_k9_e9_bler0.93118_20250513_101846.pt\n",
            "Epoch 9/15: Loss=0.1795, BLER=0.93118 (Best=0.93118)\n",
            "Saved checkpoint: BLER=0.92693 at polar_decoder_checkpoints/polar_decoder_k9_e10_bler0.92693_20250513_102028.pt\n",
            "Epoch 10/15: Loss=0.1776, BLER=0.92693 (Best=0.92693)\n",
            "Saved checkpoint: BLER=0.92371 at polar_decoder_checkpoints/polar_decoder_k9_e11_bler0.92371_20250513_102205.pt\n",
            "Epoch 11/15: Loss=0.1760, BLER=0.92371 (Best=0.92371)\n",
            "Saved checkpoint: BLER=0.91989 at polar_decoder_checkpoints/polar_decoder_k9_e12_bler0.91989_20250513_102340.pt\n",
            "Epoch 12/15: Loss=0.1736, BLER=0.91989 (Best=0.91989)\n",
            "Saved checkpoint: BLER=0.91602 at polar_decoder_checkpoints/polar_decoder_k9_e13_bler0.91602_20250513_102515.pt\n",
            "Epoch 13/15: Loss=0.1725, BLER=0.91602 (Best=0.91602)\n",
            "Saved checkpoint: BLER=0.91344 at polar_decoder_checkpoints/polar_decoder_k9_e14_bler0.91344_20250513_102651.pt\n",
            "Epoch 14/15: Loss=0.1707, BLER=0.91344 (Best=0.91344)\n",
            "Saved checkpoint: BLER=0.90977 at polar_decoder_checkpoints/polar_decoder_k9_e15_bler0.90977_20250513_102826.pt\n",
            "Epoch 15/15: Loss=0.1697, BLER=0.90977 (Best=0.90977)\n",
            "\n",
            "========================================\n",
            "Training for k = 10\n",
            "========================================\n",
            "Saved checkpoint: BLER=0.99262 at polar_decoder_checkpoints/polar_decoder_k10_e1_bler0.99262_20250513_103012.pt\n",
            "Epoch 1/15: Loss=0.2438, BLER=0.99262 (Best=0.99262)\n",
            "Saved checkpoint: BLER=0.98305 at polar_decoder_checkpoints/polar_decoder_k10_e2_bler0.98305_20250513_103154.pt\n",
            "Epoch 2/15: Loss=0.2193, BLER=0.98305 (Best=0.98305)\n",
            "Saved checkpoint: BLER=0.97978 at polar_decoder_checkpoints/polar_decoder_k10_e3_bler0.97978_20250513_103327.pt\n",
            "Epoch 3/15: Loss=0.2101, BLER=0.97978 (Best=0.97978)\n",
            "Saved checkpoint: BLER=0.97904 at polar_decoder_checkpoints/polar_decoder_k10_e4_bler0.97904_20250513_103500.pt\n",
            "Epoch 4/15: Loss=0.2042, BLER=0.97904 (Best=0.97904)\n",
            "Saved checkpoint: BLER=0.97704 at polar_decoder_checkpoints/polar_decoder_k10_e5_bler0.97704_20250513_103634.pt\n",
            "Epoch 5/15: Loss=0.2012, BLER=0.97704 (Best=0.97704)\n",
            "Saved checkpoint: BLER=0.97456 at polar_decoder_checkpoints/polar_decoder_k10_e6_bler0.97456_20250513_103808.pt\n",
            "Epoch 6/15: Loss=0.1995, BLER=0.97456 (Best=0.97456)\n",
            "Saved checkpoint: BLER=0.97291 at polar_decoder_checkpoints/polar_decoder_k10_e7_bler0.97291_20250513_103944.pt\n",
            "Epoch 7/15: Loss=0.1972, BLER=0.97291 (Best=0.97291)\n",
            "Saved checkpoint: BLER=0.97163 at polar_decoder_checkpoints/polar_decoder_k10_e8_bler0.97163_20250513_104127.pt\n",
            "Epoch 8/15: Loss=0.1959, BLER=0.97163 (Best=0.97163)\n",
            "Saved checkpoint: BLER=0.97044 at polar_decoder_checkpoints/polar_decoder_k10_e9_bler0.97044_20250513_104301.pt\n",
            "Epoch 9/15: Loss=0.1948, BLER=0.97044 (Best=0.97044)\n",
            "Saved checkpoint: BLER=0.96960 at polar_decoder_checkpoints/polar_decoder_k10_e10_bler0.96960_20250513_104437.pt\n",
            "Epoch 10/15: Loss=0.1939, BLER=0.96960 (Best=0.96960)\n",
            "Saved checkpoint: BLER=0.96886 at polar_decoder_checkpoints/polar_decoder_k10_e11_bler0.96886_20250513_104612.pt\n",
            "Epoch 11/15: Loss=0.1928, BLER=0.96886 (Best=0.96886)\n",
            "Saved checkpoint: BLER=0.96693 at polar_decoder_checkpoints/polar_decoder_k10_e12_bler0.96693_20250513_104747.pt\n",
            "Epoch 12/15: Loss=0.1916, BLER=0.96693 (Best=0.96693)\n",
            "Saved checkpoint: BLER=0.96673 at polar_decoder_checkpoints/polar_decoder_k10_e13_bler0.96673_20250513_104922.pt\n",
            "Epoch 13/15: Loss=0.1907, BLER=0.96673 (Best=0.96673)\n",
            "Saved checkpoint: BLER=0.96470 at polar_decoder_checkpoints/polar_decoder_k10_e14_bler0.96470_20250513_105108.pt\n",
            "Epoch 14/15: Loss=0.1896, BLER=0.96470 (Best=0.96470)\n",
            "Saved checkpoint: BLER=0.96394 at polar_decoder_checkpoints/polar_decoder_k10_e15_bler0.96394_20250513_105244.pt\n",
            "Epoch 15/15: Loss=0.1887, BLER=0.96394 (Best=0.96394)\n"
          ]
        }
      ],
      "source": [
        "samples_size = 128000\n",
        "training_batch = int(samples_size * 0.8)\n",
        "valid_batch = int(samples_size * 0.2)\n",
        "mini_batch = 512\n",
        "total_iterations = training_batch // mini_batch\n",
        "\n",
        "bler_list = []\n",
        "rate_list = []\n",
        "k_list = [1,2,3,4,5,6,7,8,9,10]\n",
        "\n",
        "\n",
        "for k in k_list:\n",
        "    print(f\"\\n{'='*40}\\nTraining for k = {k}\\n{'='*40}\")\n",
        "\n",
        "    decoder = DNN_Model(k)\n",
        "    optimizer = torch.optim.Adam(decoder.parameters(), lr=1e-4)\n",
        "\n",
        "    # Load best existing checkpoint if available\n",
        "    best_checkpoint_path = checkpoint_mgr.get_best_checkpoint_path(k)\n",
        "    if best_checkpoint_path:\n",
        "        checkpoint = torch.load(best_checkpoint_path)\n",
        "        decoder.load_state_dict(checkpoint['model_state_dict'])\n",
        "        optimizer.load_state_dict(checkpoint['optimizer_state_dict'])\n",
        "        start_epoch = checkpoint['epoch'] + 1\n",
        "        best_bler = checkpoint['bler']\n",
        "        print(f\"Resuming from best checkpoint: BLER={best_bler:.5f} (epoch {checkpoint['epoch']})\")\n",
        "    else:\n",
        "        start_epoch = 0\n",
        "        best_bler = float('inf')\n",
        "\n",
        "    polar_codewords, info_codewords = build_data(k)\n",
        "    epochs = 15 if k >= 4 else 5  # Your original epoch scheme\n",
        "\n",
        "    for epoch in range(start_epoch, start_epoch + epochs):\n",
        "        total_loss = 0\n",
        "        for i in range(total_iterations):\n",
        "            x = i * mini_batch\n",
        "            y = (i + 1) * mini_batch\n",
        "            noisy_input = simulate_bsc_noise(polar_codewords[x:y], flip_prob)\n",
        "            loss = mini_batch_loss(decoder, optimizer, noisy_input, info_codewords[x:y])\n",
        "            total_loss += loss\n",
        "\n",
        "        avg_loss = total_loss / total_iterations\n",
        "\n",
        "        # Evaluation\n",
        "        noisy_input = simulate_bsc_noise(polar_codewords, flip_prob)\n",
        "        decoder.eval()\n",
        "        with torch.no_grad():\n",
        "            pred = decoder(torch.tensor(noisy_input, dtype=torch.float32))\n",
        "        pred_bin = (pred > 0.5).float()\n",
        "        errors = (pred_bin != torch.tensor(info_codewords, dtype=torch.float32)).float()\n",
        "        block_errors = errors.view(samples_size, k).sum(dim=1) > 0\n",
        "        current_bler = block_errors.float().sum().item() / samples_size\n",
        "\n",
        "        # Save if improved\n",
        "        if current_bler < best_bler:\n",
        "            best_bler = current_bler\n",
        "            checkpoint_mgr.save_checkpoint(decoder, optimizer, k, epoch+1, avg_loss, best_bler)\n",
        "\n",
        "        print(f\"Epoch {epoch+1}/{start_epoch + epochs}: Loss={avg_loss:.4f}, BLER={current_bler:.5f} (Best={best_bler:.5f})\")\n",
        "\n",
        "    # Store final results\n",
        "    bler_list.append(best_bler)\n",
        "    rate_list.append(k/N)"
      ]
    },
    {
      "cell_type": "code",
      "execution_count": 14,
      "metadata": {
        "colab": {
          "base_uri": "https://localhost:8080/"
        },
        "id": "FvtLA27OsNka",
        "outputId": "c31253b7-0712-46a2-d6cc-1454e1b61410"
      },
      "outputs": [
        {
          "output_type": "execute_result",
          "data": {
            "text/plain": [
              "[0.0006640625,\n",
              " 0.019578125,\n",
              " 0.0518125,\n",
              " 0.0932578125,\n",
              " 0.156515625,\n",
              " 0.2275859375,\n",
              " 0.408390625,\n",
              " 0.753140625,\n",
              " 0.909765625,\n",
              " 0.9639375]"
            ]
          },
          "metadata": {},
          "execution_count": 14
        }
      ],
      "source": [
        "bler_list"
      ]
    },
    {
      "cell_type": "code",
      "execution_count": 15,
      "metadata": {
        "colab": {
          "base_uri": "https://localhost:8080/",
          "height": 436
        },
        "id": "6bo1tPgtwiKd",
        "outputId": "5d623de1-6427-4a6f-a907-64a2601f5401"
      },
      "outputs": [
        {
          "output_type": "display_data",
          "data": {
            "text/plain": [
              "<Figure size 800x500 with 1 Axes>"
            ],
            "image/png": "[encoded data removed]"
          },
          "metadata": {}
        }
      ],
      "source": [
        "import matplotlib.pyplot as plt\n",
        "\n",
        "# Plotting\n",
        "plt.figure(figsize=(8, 5))\n",
        "plt.semilogy(rate_list, bler_list, marker='o', linestyle='-')\n",
        "plt.xlabel(\"Code Rate (k/N)\")\n",
        "plt.ylabel(\"Block Error Rate (BLER)\")\n",
        "plt.title(f\"BLER vs Code Rate (N = {N}) over BSC\")\n",
        "plt.grid(True, which=\"both\")\n",
        "plt.show()\n"
      ]
    }
  ],
  "metadata": {
    "colab": {
      "provenance": [],
      "authorship_tag": "ABX9TyOcq9uQbAznrnOhKFLyvKFb",
      "include_colab_link": true
    },
    "kernelspec": {
      "display_name": "Python 3",
      "name": "python3"
    },
    "language_info": {
      "name": "python"
    }
  },
  "nbformat": 4,
  "nbformat_minor": 0
}